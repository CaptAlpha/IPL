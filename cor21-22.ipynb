{
 "cells": [
  {
   "cell_type": "code",
   "execution_count": 10,
   "metadata": {},
   "outputs": [],
   "source": [
    "import numpy as np\n",
    "import pandas as pd\n",
    "from sklearn import preprocessing\n",
    "import matplotlib.pyplot as plt\n",
    "import seaborn as sns\n",
    "from sklearn.model_selection import train_test_split\n",
    "from sklearn.neural_network import MLPRegressor\n",
    "from sklearn.ensemble import RandomForestRegressor\n",
    "from sklearn import neighbors\n",
    "from sklearn.metrics import mean_squared_error, r2_score\n",
    "from sklearn.model_selection import KFold\n",
    "from scipy.stats import norm\n",
    "from operator import itemgetter\n",
    "from sklearn.model_selection import cross_val_score"
   ]
  },
  {
   "cell_type": "code",
   "execution_count": 11,
   "metadata": {},
   "outputs": [
    {
     "data": {
      "text/html": [
       "<div>\n",
       "<style scoped>\n",
       "    .dataframe tbody tr th:only-of-type {\n",
       "        vertical-align: middle;\n",
       "    }\n",
       "\n",
       "    .dataframe tbody tr th {\n",
       "        vertical-align: top;\n",
       "    }\n",
       "\n",
       "    .dataframe thead th {\n",
       "        text-align: right;\n",
       "    }\n",
       "</style>\n",
       "<table border=\"1\" class=\"dataframe\">\n",
       "  <thead>\n",
       "    <tr style=\"text-align: right;\">\n",
       "      <th></th>\n",
       "      <th>Name</th>\n",
       "      <th>Team</th>\n",
       "      <th>Url</th>\n",
       "      <th>Type</th>\n",
       "      <th>ValueinCR</th>\n",
       "      <th>Full Name</th>\n",
       "      <th>Born</th>\n",
       "      <th>Age</th>\n",
       "      <th>National Side</th>\n",
       "      <th>Batting Style</th>\n",
       "      <th>...</th>\n",
       "      <th>Maidens</th>\n",
       "      <th>RunsConceded</th>\n",
       "      <th>Wickets</th>\n",
       "      <th>Best</th>\n",
       "      <th>3s</th>\n",
       "      <th>5s</th>\n",
       "      <th>BowlingAVG</th>\n",
       "      <th>EconomyRate</th>\n",
       "      <th>S/R</th>\n",
       "      <th>Mtc</th>\n",
       "    </tr>\n",
       "  </thead>\n",
       "  <tbody>\n",
       "    <tr>\n",
       "      <th>0</th>\n",
       "      <td>Mayank Agarwal</td>\n",
       "      <td>PBKS</td>\n",
       "      <td>https://sports.ndtv.com/cricket/players/1430-m...</td>\n",
       "      <td>Batsman</td>\n",
       "      <td>12.00</td>\n",
       "      <td>Mayank Anurag Agarwal</td>\n",
       "      <td>February 16, 1991 Bangalore, Karnataka</td>\n",
       "      <td>31 Years, 0 Months, 28 Days</td>\n",
       "      <td>India</td>\n",
       "      <td>Right Handed</td>\n",
       "      <td>...</td>\n",
       "      <td>NaN</td>\n",
       "      <td>NaN</td>\n",
       "      <td>NaN</td>\n",
       "      <td>NaN</td>\n",
       "      <td>NaN</td>\n",
       "      <td>NaN</td>\n",
       "      <td>NaN</td>\n",
       "      <td>NaN</td>\n",
       "      <td>NaN</td>\n",
       "      <td>NaN</td>\n",
       "    </tr>\n",
       "    <tr>\n",
       "      <th>1</th>\n",
       "      <td>Liam Livingstone</td>\n",
       "      <td>PBKS</td>\n",
       "      <td>https://sports.ndtv.com/cricket/players/64363-...</td>\n",
       "      <td>All-Rounder</td>\n",
       "      <td>11.50</td>\n",
       "      <td>Liam Stephen Livingstone</td>\n",
       "      <td>August 4, 1993 Barrow-in-Furness, Cumberland</td>\n",
       "      <td>28 Years, 7 Months, 11 Days</td>\n",
       "      <td>England</td>\n",
       "      <td>Right Handed</td>\n",
       "      <td>...</td>\n",
       "      <td>0.0</td>\n",
       "      <td>13.0</td>\n",
       "      <td>0.0</td>\n",
       "      <td>0/13 v MI</td>\n",
       "      <td>0.0</td>\n",
       "      <td>0.0</td>\n",
       "      <td>NaN</td>\n",
       "      <td>13.00</td>\n",
       "      <td>NaN</td>\n",
       "      <td>1.0</td>\n",
       "    </tr>\n",
       "    <tr>\n",
       "      <th>2</th>\n",
       "      <td>Kagiso Rabada</td>\n",
       "      <td>PBKS</td>\n",
       "      <td>https://sports.ndtv.com/cricket/players/64042-...</td>\n",
       "      <td>Bowler</td>\n",
       "      <td>9.25</td>\n",
       "      <td>Kagiso Rabada</td>\n",
       "      <td>May 25, 1995 Johannesburg</td>\n",
       "      <td>26 Years, 9 Months, 22 Days</td>\n",
       "      <td>South Africa</td>\n",
       "      <td>Left Handed</td>\n",
       "      <td>...</td>\n",
       "      <td>2.0</td>\n",
       "      <td>1560.0</td>\n",
       "      <td>76.0</td>\n",
       "      <td>4/21 v RCB</td>\n",
       "      <td>4.0</td>\n",
       "      <td>0.0</td>\n",
       "      <td>20.52</td>\n",
       "      <td>8.21</td>\n",
       "      <td>15.0</td>\n",
       "      <td>50.0</td>\n",
       "    </tr>\n",
       "    <tr>\n",
       "      <th>3</th>\n",
       "      <td>Shahrukh Khan</td>\n",
       "      <td>PBKS</td>\n",
       "      <td>https://sports.ndtv.com/cricket/players/113433...</td>\n",
       "      <td>All-Rounder</td>\n",
       "      <td>9.00</td>\n",
       "      <td>Masood Shahrukh Khan</td>\n",
       "      <td>May 27, 1995 Chennai, Tamil Nadu</td>\n",
       "      <td>26 Years, 9 Months, 20 Days</td>\n",
       "      <td>India</td>\n",
       "      <td>Right Handed</td>\n",
       "      <td>...</td>\n",
       "      <td>NaN</td>\n",
       "      <td>NaN</td>\n",
       "      <td>NaN</td>\n",
       "      <td>NaN</td>\n",
       "      <td>NaN</td>\n",
       "      <td>NaN</td>\n",
       "      <td>NaN</td>\n",
       "      <td>NaN</td>\n",
       "      <td>NaN</td>\n",
       "      <td>NaN</td>\n",
       "    </tr>\n",
       "    <tr>\n",
       "      <th>4</th>\n",
       "      <td>Shikhar Dhawan</td>\n",
       "      <td>PBKS</td>\n",
       "      <td>https://sports.ndtv.com/cricket/players/737-sh...</td>\n",
       "      <td>Batsman</td>\n",
       "      <td>8.25</td>\n",
       "      <td>Shikhar Dhawan</td>\n",
       "      <td>December 5, 1985 Delhi</td>\n",
       "      <td>36 Years, 3 Months, 10 Days</td>\n",
       "      <td>India</td>\n",
       "      <td>Left Handed</td>\n",
       "      <td>...</td>\n",
       "      <td>0.0</td>\n",
       "      <td>66.0</td>\n",
       "      <td>4.0</td>\n",
       "      <td>1/7 v DC</td>\n",
       "      <td>0.0</td>\n",
       "      <td>0.0</td>\n",
       "      <td>16.50</td>\n",
       "      <td>8.25</td>\n",
       "      <td>12.0</td>\n",
       "      <td>6.0</td>\n",
       "    </tr>\n",
       "  </tbody>\n",
       "</table>\n",
       "<p>5 rows × 39 columns</p>\n",
       "</div>"
      ],
      "text/plain": [
       "               Name  Team                                                Url  \\\n",
       "0    Mayank Agarwal  PBKS  https://sports.ndtv.com/cricket/players/1430-m...   \n",
       "1  Liam Livingstone  PBKS  https://sports.ndtv.com/cricket/players/64363-...   \n",
       "2     Kagiso Rabada  PBKS  https://sports.ndtv.com/cricket/players/64042-...   \n",
       "3     Shahrukh Khan  PBKS  https://sports.ndtv.com/cricket/players/113433...   \n",
       "4    Shikhar Dhawan  PBKS  https://sports.ndtv.com/cricket/players/737-sh...   \n",
       "\n",
       "           Type  ValueinCR                 Full Name  \\\n",
       "0      Batsman       12.00     Mayank Anurag Agarwal   \n",
       "1  All-Rounder       11.50  Liam Stephen Livingstone   \n",
       "2       Bowler        9.25             Kagiso Rabada   \n",
       "3  All-Rounder        9.00      Masood Shahrukh Khan   \n",
       "4      Batsman        8.25            Shikhar Dhawan   \n",
       "\n",
       "                                           Born                          Age  \\\n",
       "0        February 16, 1991 Bangalore, Karnataka  31 Years, 0 Months, 28 Days   \n",
       "1  August 4, 1993 Barrow-in-Furness, Cumberland  28 Years, 7 Months, 11 Days   \n",
       "2                     May 25, 1995 Johannesburg  26 Years, 9 Months, 22 Days   \n",
       "3              May 27, 1995 Chennai, Tamil Nadu  26 Years, 9 Months, 20 Days   \n",
       "4                        December 5, 1985 Delhi  36 Years, 3 Months, 10 Days   \n",
       "\n",
       "  National Side Batting Style  ... Maidens RunsConceded  Wickets        Best  \\\n",
       "0         India  Right Handed  ...     NaN          NaN      NaN         NaN   \n",
       "1       England  Right Handed  ...     0.0         13.0      0.0   0/13 v MI   \n",
       "2  South Africa   Left Handed  ...     2.0       1560.0     76.0  4/21 v RCB   \n",
       "3         India  Right Handed  ...     NaN          NaN      NaN         NaN   \n",
       "4         India   Left Handed  ...     0.0         66.0      4.0    1/7 v DC   \n",
       "\n",
       "    3s   5s BowlingAVG  EconomyRate   S/R   Mtc  \n",
       "0  NaN  NaN        NaN          NaN   NaN   NaN  \n",
       "1  0.0  0.0        NaN        13.00   NaN   1.0  \n",
       "2  4.0  0.0      20.52         8.21  15.0  50.0  \n",
       "3  NaN  NaN        NaN          NaN   NaN   NaN  \n",
       "4  0.0  0.0      16.50         8.25  12.0   6.0  \n",
       "\n",
       "[5 rows x 39 columns]"
      ]
     },
     "execution_count": 11,
     "metadata": {},
     "output_type": "execute_result"
    }
   ],
   "source": [
    "df = pd.read_csv(r\"dataset\\IPL_Data.csv\",encoding=\"latin1\")\n",
    "df.head()\n",
    "\n"
   ]
  },
  {
   "cell_type": "code",
   "execution_count": 12,
   "metadata": {},
   "outputs": [
    {
     "data": {
      "text/plain": [
       "Index(['Name', 'Team', 'Url', 'Type', 'ValueinCR', 'Full Name', 'Born', 'Age',\n",
       "       'National Side', 'Batting Style', 'Bowling', 'Sport', 'MatchPlayed',\n",
       "       'InningsBatted', 'NotOuts', 'RunsScored', 'HighestInnScore', '100s',\n",
       "       '50s', '4s', '6s', 'BattingAVG', 'BattingS/R', 'CatchesTaken',\n",
       "       'StumpingsMade', 'Ducks', 'R/O', 'InningsBowled', 'Overs', 'Maidens',\n",
       "       'RunsConceded', 'Wickets', 'Best', '3s', '5s', 'BowlingAVG',\n",
       "       'EconomyRate', 'S/R', 'Mtc'],\n",
       "      dtype='object')"
      ]
     },
     "execution_count": 12,
     "metadata": {},
     "output_type": "execute_result"
    }
   ],
   "source": [
    "df.columns"
   ]
  },
  {
   "cell_type": "code",
   "execution_count": 13,
   "metadata": {},
   "outputs": [],
   "source": [
    "df.drop(['Url','Age','Full Name', 'Born', 'Sport', 'National Side', 'MatchPlayed','CatchesTaken',\n",
    "       'StumpingsMade', 'Ducks', 'R/O', 'Maidens', 'Best', 'Mtc'],axis=1,inplace=True)\n",
    "\n"
   ]
  },
  {
   "cell_type": "code",
   "execution_count": 14,
   "metadata": {},
   "outputs": [
    {
     "data": {
      "text/plain": [
       "Index(['Name', 'Team', 'Type', 'ValueinCR', 'Batting Style', 'Bowling',\n",
       "       'InningsBatted', 'NotOuts', 'RunsScored', 'HighestInnScore', '100s',\n",
       "       '50s', '4s', '6s', 'BattingAVG', 'BattingS/R', 'InningsBowled', 'Overs',\n",
       "       'RunsConceded', 'Wickets', '3s', '5s', 'BowlingAVG', 'EconomyRate',\n",
       "       'S/R'],\n",
       "      dtype='object')"
      ]
     },
     "execution_count": 14,
     "metadata": {},
     "output_type": "execute_result"
    }
   ],
   "source": [
    "df.columns"
   ]
  },
  {
   "cell_type": "code",
   "execution_count": 15,
   "metadata": {},
   "outputs": [
    {
     "ename": "SyntaxError",
     "evalue": "expression cannot contain assignment, perhaps you meant \"==\"? (Temp/ipykernel_31532/2769326193.py, line 2)",
     "output_type": "error",
     "traceback": [
      "\u001b[1;36m  File \u001b[1;32m\"C:\\Users\\Arhit\\AppData\\Local\\Temp/ipykernel_31532/2769326193.py\"\u001b[1;36m, line \u001b[1;32m2\u001b[0m\n\u001b[1;33m    df.rename(columns={'Runs':'Runs_Scored','Balls_Bowled':'Balls_Bowled_Overs','Balls_Faced':'Balls_Faced_Overs',\u001b[0m\n\u001b[1;37m              ^\u001b[0m\n\u001b[1;31mSyntaxError\u001b[0m\u001b[1;31m:\u001b[0m expression cannot contain assignment, perhaps you meant \"==\"?\n"
     ]
    }
   ],
   "source": [
    "# Rename Columns\n",
    "df.rename(columns={'T':'Runs_Scored','Balls_Bowled':'Balls_Bowled_Overs','Balls_Faced':'Balls_Faced_Overs',"
   ]
  }
 ],
 "metadata": {
  "interpreter": {
   "hash": "68388ac46d513204cd8f855d33290d51794fb1a60da2c6fe6ee1dabfa9739d16"
  },
  "kernelspec": {
   "display_name": "Python 3.9.1 64-bit",
   "language": "python",
   "name": "python3"
  },
  "language_info": {
   "codemirror_mode": {
    "name": "ipython",
    "version": 3
   },
   "file_extension": ".py",
   "mimetype": "text/x-python",
   "name": "python",
   "nbconvert_exporter": "python",
   "pygments_lexer": "ipython3",
   "version": "3.9.1"
  },
  "orig_nbformat": 4
 },
 "nbformat": 4,
 "nbformat_minor": 2
}
